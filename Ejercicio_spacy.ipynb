{
 "cells": [
  {
   "cell_type": "code",
   "execution_count": 3,
   "metadata": {},
   "outputs": [],
   "source": [
    "import spacy"
   ]
  },
  {
   "cell_type": "code",
   "execution_count": 8,
   "metadata": {},
   "outputs": [
    {
     "name": "stdout",
     "output_type": "stream",
     "text": [
      "John ---> nsubj\n",
      "lanzo ---> ROOT\n",
      "el ---> det\n",
      "ladrillo ---> obj\n"
     ]
    }
   ],
   "source": [
    "nlp = spacy.load('es_core_news_sm')\n",
    "\n",
    "doc = nlp(\"John lanzo el ladrillo\")\n",
    "\n",
    "for tok in doc: \n",
    "    print(tok.text, \"--->\", tok.dep_)"
   ]
  },
  {
   "cell_type": "code",
   "execution_count": 9,
   "metadata": {},
   "outputs": [
    {
     "name": "stdout",
     "output_type": "stream",
     "text": [
      "John ---> nsubj\n",
      "lanzo ---> ROOT\n",
      "el ---> det\n",
      "ladrillo ---> obj\n"
     ]
    }
   ],
   "source": [
    "nlp = spacy.load('es_core_news_sm')\n",
    "\n",
    "doc = nlp(\"John lanzo el ladrillo\")\n",
    "\n",
    "for tok in doc: \n",
    "    print(tok.text, \"--->\", tok.dep_)"
   ]
  },
  {
   "cell_type": "code",
   "execution_count": 13,
   "metadata": {},
   "outputs": [
    {
     "name": "stdout",
     "output_type": "stream",
     "text": [
      "He ---> nsubj\n",
      "was ---> ROOT\n",
      "the ---> det\n",
      "chairman ---> attr\n",
      ", ---> punct\n",
      "a ---> det\n",
      "member ---> appos\n",
      "of ---> prep\n",
      "The ---> det\n",
      "Walt ---> compound\n",
      "Disney ---> pobj\n"
     ]
    }
   ],
   "source": [
    "nlp = spacy.load('en_core_web_sm')\n",
    "doc = nlp('He was the chairman, a member of The Walt Disney')\n",
    "\n",
    "for tok in doc:\n",
    "    print(tok.text, \"--->\", tok.dep_)"
   ]
  },
  {
   "cell_type": "code",
   "execution_count": null,
   "metadata": {},
   "outputs": [],
   "source": []
  }
 ],
 "metadata": {
  "kernelspec": {
   "display_name": "Python 3",
   "language": "python",
   "name": "python3"
  },
  "language_info": {
   "codemirror_mode": {
    "name": "ipython",
    "version": 3
   },
   "file_extension": ".py",
   "mimetype": "text/x-python",
   "name": "python",
   "nbconvert_exporter": "python",
   "pygments_lexer": "ipython3",
   "version": "3.7.6"
  }
 },
 "nbformat": 4,
 "nbformat_minor": 4
}
